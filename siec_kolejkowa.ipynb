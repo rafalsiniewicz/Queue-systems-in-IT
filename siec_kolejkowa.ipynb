{
 "cells": [
  {
   "cell_type": "code",
   "execution_count": 1,
   "metadata": {},
   "outputs": [],
   "source": [
    "import numpy as np"
   ]
  },
  {
   "cell_type": "markdown",
   "metadata": {},
   "source": [
    "# Macierze przejsc\n",
    "Ogólny schemat macierzy przejsc:"
   ]
  },
  {
   "cell_type": "markdown",
   "metadata": {},
   "source": [
    "### Klasa 1- tankowanie, mycie\n",
    "Przebieg: tankowanie benzyna/gazem -> myjnia -> kasa"
   ]
  },
  {
   "cell_type": "code",
   "execution_count": 2,
   "metadata": {},
   "outputs": [],
   "source": [
    "p1 = np.asarray([\n",
    "                [np.NaN,0.5,0.5,0,0,0], \n",
    "                [0,np.NaN,0,1,0,0], \n",
    "                [0,0,np.NaN,1,0,0], \n",
    "                [0,0,0,np.NaN,0,1], \n",
    "                [0,0,0,0,np.NaN,0], \n",
    "                [0,0,0,0,0,np.NaN]\n",
    "              ])"
   ]
  },
  {
   "cell_type": "markdown",
   "metadata": {},
   "source": [
    "### Klasa 2- tankowanie\n",
    "Przebieg: tankowanie benzyna/gazem -> kasa"
   ]
  },
  {
   "cell_type": "code",
   "execution_count": 3,
   "metadata": {},
   "outputs": [],
   "source": [
    "p2 = np.asarray([\n",
    "                [np.NaN,0.5,0.5,0,0,0], \n",
    "                [0,np.NaN,0,0,0,1], \n",
    "                [0,0,np.NaN,0,0,1], \n",
    "                [0,0,0,np.NaN,0,0], \n",
    "                [0,0,0,0,np.NaN,0], \n",
    "                [0,0,0,0,0,np.NaN] \n",
    "              ])"
   ]
  },
  {
   "cell_type": "markdown",
   "metadata": {},
   "source": [
    "### Klasa 3- badania okresowe, tankowanie\n",
    "Przebieg: badania okresowe pojazdów -> tankowanie benzyna/gazem -> kasa"
   ]
  },
  {
   "cell_type": "code",
   "execution_count": 4,
   "metadata": {},
   "outputs": [],
   "source": [
    "p3 = np.asarray([\n",
    "                [np.NaN,0,0,0,1,0], \n",
    "                [0,np.NaN,0,0,0,1], \n",
    "                [0,0,np.NaN,0,0,1], \n",
    "                [0,0,0,np.NaN,0,0], \n",
    "                [0,0.5,0.5,0,np.NaN,0], \n",
    "                [0,0,0,0,0,np.NaN] \n",
    "              ])"
   ]
  },
  {
   "cell_type": "markdown",
   "metadata": {},
   "source": [
    "### Klasa 4- badania okresowe\n",
    "Przebieg: badania okresowe pojazdów -> kasa"
   ]
  },
  {
   "cell_type": "code",
   "execution_count": 5,
   "metadata": {},
   "outputs": [],
   "source": [
    "p4 = np.asarray([\n",
    "                [np.NaN,0,0,0,1,0], \n",
    "                [0,np.NaN,0,0,0,0], \n",
    "                [0,0,np.NaN,0,0,0], \n",
    "                [0,0,0,np.NaN,0,0], \n",
    "                [0,0,0,0,np.NaN,1],\n",
    "                [0,0,0,0,0,np.NaN] \n",
    "              ])"
   ]
  },
  {
   "cell_type": "markdown",
   "metadata": {},
   "source": [
    "### Klasa 5- myjnia\n",
    "Przebieg: myjnia -> kasa"
   ]
  },
  {
   "cell_type": "code",
   "execution_count": 6,
   "metadata": {},
   "outputs": [],
   "source": [
    "p5 = np.asarray([\n",
    "                [np.NaN,0,0,1,0,0], \n",
    "                [0,np.NaN,0,0,0,0], \n",
    "                [0,0,np.NaN,0,0,0], \n",
    "                [0,0,0,np.NaN,0,1], \n",
    "                [0,0,0,0,np.NaN,0],\n",
    "                [0,0,0,0,0,np.NaN]\n",
    "              ])"
   ]
  },
  {
   "cell_type": "markdown",
   "metadata": {},
   "source": [
    "### Klasa 6- myjnia, badania okresowe\n",
    "Przebieg: myjnia -> przegląd -> kasa"
   ]
  },
  {
   "cell_type": "code",
   "execution_count": 8,
   "metadata": {},
   "outputs": [],
   "source": [
    "p6 = np.asarray([\n",
    "                [np.NaN,0,0,1,0,0], \n",
    "                [0,np.NaN,0,0,0,0], \n",
    "                [0,0,np.NaN,0,0,0], \n",
    "                [0,0,0,np.NaN,1,0], \n",
    "                [0,0,0,0,np.NaN,1],\n",
    "                [0,0,0,0,0,np.NaN]\n",
    "              ])\n"
   ]
  },
  {
   "cell_type": "code",
   "execution_count": 9,
   "metadata": {},
   "outputs": [],
   "source": [
    "p = [p1, p2, p3, p4, p5, p6]"
   ]
  },
  {
   "cell_type": "code",
   "execution_count": 10,
   "metadata": {},
   "outputs": [],
   "source": [
    "_lambda = 100"
   ]
  },
  {
   "cell_type": "code",
   "execution_count": 11,
   "metadata": {},
   "outputs": [],
   "source": [
    "_class_lambdas = [0.1 * _lambda, 0.3 * _lambda, 0.2 * _lambda, 0.1 * _lambda, 0.15 * _lambda, 0.15 * _lambda]"
   ]
  },
  {
   "cell_type": "markdown",
   "metadata": {},
   "source": [
    "## Przepustowość każdej klasy w każdym systemie \n",
    "- r- index klasy, r=1,..,R\n",
    "- i- index systemu, i=1,..,N\n",
    "- N- liczba systemow\n",
    "- R- liczba klas\n",
    "\n",
    "lambda(0,ir) to jest lambda wejsciowa dla kazdego systemu"
   ]
  },
  {
   "cell_type": "code",
   "execution_count": 12,
   "metadata": {},
   "outputs": [],
   "source": [
    "def lambda_ir(lambda0, N, R, p, i):\n",
    "    sum = 0\n",
    "    for j in range(1, N):\n",
    "        for s in range(1, R):\n",
    "            sum += _lambda[j][s] * p[s][j][i]"
   ]
  },
  {
   "cell_type": "code",
   "execution_count": 20,
   "metadata": {},
   "outputs": [],
   "source": [
    "#problem z implementacja/ zrozumieniem wzoru"
   ]
  },
  {
   "cell_type": "code",
   "execution_count": null,
   "metadata": {},
   "outputs": [],
   "source": []
  }
 ],
 "metadata": {
  "kernelspec": {
   "display_name": "Python 3",
   "language": "python",
   "name": "python3"
  },
  "language_info": {
   "codemirror_mode": {
    "name": "ipython",
    "version": 3
   },
   "file_extension": ".py",
   "mimetype": "text/x-python",
   "name": "python",
   "nbconvert_exporter": "python",
   "pygments_lexer": "ipython3",
   "version": "3.7.4"
  }
 },
 "nbformat": 4,
 "nbformat_minor": 4
}
