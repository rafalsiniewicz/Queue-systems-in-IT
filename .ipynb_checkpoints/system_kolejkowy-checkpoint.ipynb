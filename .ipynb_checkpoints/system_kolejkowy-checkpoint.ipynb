{
 "cells": [
  {
   "cell_type": "markdown",
   "metadata": {},
   "source": [
    "# System kolejkowy M/M/m/FIFO/niesk.\n",
    "\n",
    "- m (ilosc kanalow obslugi)\n",
    "- FIFO (dyscyplina kolejki)\n",
    "\n",
    "##### Parametry wejsciowe dla systemu kolejkowego:\n",
    "- lambda (intensywnosc przychodzacych zgloszen)\n",
    "- mu (czas obslugi zgloszen)\n",
    "\n",
    "##### Parametry wyjsciowe systemu (wielkosci charakteryzujace system):\n",
    "- pi_k/pk (prawdopodobieństwo stanu, że w systemie jest k zgłoszeń)\n",
    "- ro (względna intensywność obsługi)\n",
    "- Q/v (średnia liczba zgłoszeń w kolejce)\n",
    "- K/n (średnia liczba zgłoszeń)\n",
    "- T/ts (średni czas przebywania zgłoszeń w systemie)\n",
    "- W/tf (średni czas oczekiwania w kolejce)"
   ]
  },
  {
   "cell_type": "markdown",
   "metadata": {},
   "source": [
    "# Zdefiniowanie parametrow wejsciowych systemu\n",
    "Wszystkie kanaly obslugi maja taka sama intensywnosc obslugi mu"
   ]
  },
  {
   "cell_type": "code",
   "execution_count": 2,
   "metadata": {},
   "outputs": [
    {
     "data": {
      "text/plain": [
       "1.0"
      ]
     },
     "execution_count": 2,
     "metadata": {},
     "output_type": "execute_result"
    }
   ],
   "source": [
    "m = 2\n",
    "_lambda = 1\n",
    "_mu = 1\n",
    "_ro = _lambda / _mu\n",
    "_ro"
   ]
  },
  {
   "cell_type": "markdown",
   "metadata": {},
   "source": [
    "# Sprawdzenie warunku ergodycznosci\n",
    "lambda/mu < m"
   ]
  },
  {
   "cell_type": "code",
   "execution_count": 3,
   "metadata": {},
   "outputs": [
    {
     "name": "stdout",
     "output_type": "stream",
     "text": [
      "ergodicity condition is met\n"
     ]
    }
   ],
   "source": [
    "if _ro < m:\n",
    "    print(\"ergodicity condition is met\")\n",
    "else:\n",
    "    print(\"ergodicity condition is not met\")"
   ]
  },
  {
   "cell_type": "code",
   "execution_count": 4,
   "metadata": {},
   "outputs": [],
   "source": [
    "import math \n",
    "def p0(m, ro):\n",
    "    _sum = 0\n",
    "    for k in range(m-1):\n",
    "        _sum += ro ** k / math.factorial(k)\n",
    "    \n",
    "    _sum += ro ** m / (math.factorial(m-1) * (m - ro))\n",
    "        \n",
    "    return 1 / _sum"
   ]
  },
  {
   "cell_type": "code",
   "execution_count": 5,
   "metadata": {},
   "outputs": [
    {
     "data": {
      "text/plain": [
       "0.5"
      ]
     },
     "execution_count": 5,
     "metadata": {},
     "output_type": "execute_result"
    }
   ],
   "source": [
    "p0(m, _ro)"
   ]
  },
  {
   "cell_type": "markdown",
   "metadata": {},
   "source": [
    "# Prawdopodobieństwo, iż s kanałów jest zajętych"
   ]
  },
  {
   "cell_type": "code",
   "execution_count": 6,
   "metadata": {},
   "outputs": [],
   "source": [
    "def ps(s, p0, ro):\n",
    "    return ( ro ** s / math.factorial(s) ) * p0"
   ]
  },
  {
   "cell_type": "code",
   "execution_count": 7,
   "metadata": {},
   "outputs": [
    {
     "data": {
      "text/plain": [
       "0.25"
      ]
     },
     "execution_count": 7,
     "metadata": {},
     "output_type": "execute_result"
    }
   ],
   "source": [
    "ps(2, p0(m, _ro), _ro)"
   ]
  },
  {
   "cell_type": "markdown",
   "metadata": {},
   "source": [
    "# Prawdopodobieństwo stanu, że w systemie jest k zgłoszeń"
   ]
  },
  {
   "cell_type": "code",
   "execution_count": 8,
   "metadata": {},
   "outputs": [],
   "source": [
    "def pi_k(k, m, ro, pi0):\n",
    "    if k >= 0 and k <= m - 1 and ro < m:\n",
    "        pi_k = pi0 * (ro ** k) / math.factorial(k)\n",
    "    elif k >= m and ro < m:\n",
    "        pi_k = pi0 * (ro ** k) / ( math.factorial(m) * m ** (k - m))\n",
    "    else:\n",
    "        return None\n",
    "    return pi_k"
   ]
  },
  {
   "cell_type": "code",
   "execution_count": 15,
   "metadata": {},
   "outputs": [
    {
     "data": {
      "text/plain": [
       "0.125"
      ]
     },
     "execution_count": 15,
     "metadata": {},
     "output_type": "execute_result"
    }
   ],
   "source": [
    "pi_k(3, m, _ro, p0(m, _ro))"
   ]
  },
  {
   "cell_type": "markdown",
   "metadata": {},
   "source": [
    "# Średnia liczba zgłoszeń"
   ]
  },
  {
   "cell_type": "code",
   "execution_count": 16,
   "metadata": {},
   "outputs": [],
   "source": [
    "def K(ro, m, pi0):\n",
    "    return ro + (ro ** (m + 1) * pi0) / ((m - ro) ** 2 * math.factorial(m - 1))"
   ]
  },
  {
   "cell_type": "code",
   "execution_count": 17,
   "metadata": {},
   "outputs": [
    {
     "data": {
      "text/plain": [
       "1.5"
      ]
     },
     "execution_count": 17,
     "metadata": {},
     "output_type": "execute_result"
    }
   ],
   "source": [
    "K(_ro, m, p0(m, _ro))"
   ]
  },
  {
   "cell_type": "markdown",
   "metadata": {},
   "source": [
    "# Średnia liczba zgłoszeń w kolejce"
   ]
  },
  {
   "cell_type": "code",
   "execution_count": 18,
   "metadata": {},
   "outputs": [],
   "source": [
    "def Q(ro, m, pi0):\n",
    "    return (ro ** (m + 1) * pi0) / ((m - ro) ** 2 * math.factorial(m - 1))"
   ]
  },
  {
   "cell_type": "code",
   "execution_count": 20,
   "metadata": {},
   "outputs": [
    {
     "data": {
      "text/plain": [
       "0.5"
      ]
     },
     "execution_count": 20,
     "metadata": {},
     "output_type": "execute_result"
    }
   ],
   "source": [
    "Q(_ro, m, p0(m, _ro))"
   ]
  },
  {
   "cell_type": "markdown",
   "metadata": {},
   "source": [
    "# Średni czas przebywania zgłoszeńw systemie"
   ]
  },
  {
   "cell_type": "code",
   "execution_count": 21,
   "metadata": {},
   "outputs": [],
   "source": [
    "def T(K, _lambda):\n",
    "    return K / _lambda"
   ]
  },
  {
   "cell_type": "code",
   "execution_count": 22,
   "metadata": {},
   "outputs": [
    {
     "data": {
      "text/plain": [
       "1.5"
      ]
     },
     "execution_count": 22,
     "metadata": {},
     "output_type": "execute_result"
    }
   ],
   "source": [
    "T(K(_ro, m, p0(m, _ro)), _lambda)"
   ]
  },
  {
   "cell_type": "markdown",
   "metadata": {},
   "source": [
    "# Średni czas oczekiwania w kolejce"
   ]
  },
  {
   "cell_type": "code",
   "execution_count": 23,
   "metadata": {},
   "outputs": [],
   "source": [
    "def W(Q, _lambda):\n",
    "    return Q / _lambda"
   ]
  },
  {
   "cell_type": "code",
   "execution_count": 24,
   "metadata": {},
   "outputs": [
    {
     "data": {
      "text/plain": [
       "0.5"
      ]
     },
     "execution_count": 24,
     "metadata": {},
     "output_type": "execute_result"
    }
   ],
   "source": [
    "W(Q(_ro, m, p0(m, _ro)), _lambda)"
   ]
  },
  {
   "cell_type": "code",
   "execution_count": null,
   "metadata": {},
   "outputs": [],
   "source": []
  }
 ],
 "metadata": {
  "kernelspec": {
   "display_name": "Python 3",
   "language": "python",
   "name": "python3"
  },
  "language_info": {
   "codemirror_mode": {
    "name": "ipython",
    "version": 3
   },
   "file_extension": ".py",
   "mimetype": "text/x-python",
   "name": "python",
   "nbconvert_exporter": "python",
   "pygments_lexer": "ipython3",
   "version": "3.7.4"
  }
 },
 "nbformat": 4,
 "nbformat_minor": 2
}
