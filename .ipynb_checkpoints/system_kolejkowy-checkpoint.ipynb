{
 "cells": [
  {
   "cell_type": "markdown",
   "metadata": {},
   "source": [
    "# System kolejkowy M/M/m/FIFO/niesk.\n",
    "\n",
    "- m (ilosc kanalow obslugi)\n",
    "- FIFO (dyscyplina kolejki)\n",
    "\n",
    "##### Parametry wejsciowe dla systemu kolejkowego:\n",
    "- lambda (intensywnosc przychodzacych zgloszen)\n",
    "- mu (czas obslugi zgloszen)\n",
    "\n",
    "##### Parametry wyjsciowe systemu (wielkosci charakteryzujace system):\n",
    "- pi_k/pk (prawdopodobieństwo stanu, że w systemie jest k zgłoszeń)\n",
    "- ro (względna intensywność obsługi)\n",
    "- v (średnia liczba zgłoszeń w kolejce)\n",
    "- n (średnia liczba zgłoszeń)\n",
    "- ts (średni czas przebywania zgłoszeń w systemie)\n",
    "- tf (średni czas oczekiwania w kolejce)"
   ]
  },
  {
   "cell_type": "markdown",
   "metadata": {},
   "source": [
    "# Zdefiniowanie parametrow wejsciowych systemu\n",
    "Wszystkie kanaly obslugi maja taka sama intensywnosc obslugi mu"
   ]
  },
  {
   "cell_type": "code",
   "execution_count": 43,
   "metadata": {},
   "outputs": [
    {
     "data": {
      "text/plain": [
       "1.0"
      ]
     },
     "execution_count": 43,
     "metadata": {},
     "output_type": "execute_result"
    }
   ],
   "source": [
    "m = 2\n",
    "_lambda = 1\n",
    "_mu = 1\n",
    "_ro = _lambda / _mu\n",
    "_ro"
   ]
  },
  {
   "cell_type": "markdown",
   "metadata": {},
   "source": [
    "# Sprawdzenie warunku ergodycznosci\n",
    "lambda/mu < m"
   ]
  },
  {
   "cell_type": "code",
   "execution_count": 44,
   "metadata": {},
   "outputs": [
    {
     "name": "stdout",
     "output_type": "stream",
     "text": [
      "ergodicity condition is met\n"
     ]
    }
   ],
   "source": [
    "if _ro < m:\n",
    "    print(\"ergodicity condition is met\")\n",
    "else:\n",
    "    print(\"ergodicity condition is not met\")"
   ]
  },
  {
   "cell_type": "code",
   "execution_count": 45,
   "metadata": {},
   "outputs": [],
   "source": [
    "import math \n",
    "def p0(m, ro):\n",
    "    _sum = 0\n",
    "    for k in range(m-1):\n",
    "        _sum += ro ** k / math.factorial(k)\n",
    "    \n",
    "    _sum += ro ** m / (math.factorial(m-1) * (m - ro))\n",
    "        \n",
    "    return 1 / _sum"
   ]
  },
  {
   "cell_type": "code",
   "execution_count": 46,
   "metadata": {},
   "outputs": [
    {
     "data": {
      "text/plain": [
       "0.5"
      ]
     },
     "execution_count": 46,
     "metadata": {},
     "output_type": "execute_result"
    }
   ],
   "source": [
    "p0(m, _ro)"
   ]
  },
  {
   "cell_type": "markdown",
   "metadata": {},
   "source": [
    "# Prawdopodobieństwo, iż s kanałów jest zajętych"
   ]
  },
  {
   "cell_type": "code",
   "execution_count": 47,
   "metadata": {},
   "outputs": [],
   "source": [
    "def ps(s, p0, ro):\n",
    "    return ( ro ** s / math.factorial(s) ) * p0"
   ]
  },
  {
   "cell_type": "code",
   "execution_count": 51,
   "metadata": {},
   "outputs": [
    {
     "data": {
      "text/plain": [
       "0.25"
      ]
     },
     "execution_count": 51,
     "metadata": {},
     "output_type": "execute_result"
    }
   ],
   "source": [
    "ps(2, p0(m, _ro), _ro)"
   ]
  },
  {
   "cell_type": "code",
   "execution_count": null,
   "metadata": {},
   "outputs": [],
   "source": []
  }
 ],
 "metadata": {
  "kernelspec": {
   "display_name": "Python 3",
   "language": "python",
   "name": "python3"
  },
  "language_info": {
   "codemirror_mode": {
    "name": "ipython",
    "version": 3
   },
   "file_extension": ".py",
   "mimetype": "text/x-python",
   "name": "python",
   "nbconvert_exporter": "python",
   "pygments_lexer": "ipython3",
   "version": "3.7.4"
  }
 },
 "nbformat": 4,
 "nbformat_minor": 2
}
