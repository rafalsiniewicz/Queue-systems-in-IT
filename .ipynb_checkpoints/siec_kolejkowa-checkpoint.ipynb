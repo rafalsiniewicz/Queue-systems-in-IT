{
 "cells": [
  {
   "cell_type": "code",
   "execution_count": 2,
   "metadata": {},
   "outputs": [],
   "source": [
    "import numpy as np"
   ]
  },
  {
   "attachments": {},
   "cell_type": "markdown",
   "metadata": {},
   "source": [
    "# Macierze przejsc\n",
    "Ogólny schemat macierzy przejsc:"
   ]
  },
  {
   "cell_type": "markdown",
   "metadata": {},
   "source": [
    "### Klasa 1- tankowanie, mycie\n",
    "Przebieg: tankowanie benzyna/gazem -> myjnia -> kasa"
   ]
  },
  {
   "cell_type": "code",
   "execution_count": 6,
   "metadata": {},
   "outputs": [],
   "source": [
    "m1 = np.asarray([\n",
    "                [np.NaN,0.5,0.5,0,0,0], \n",
    "                [0,np.NaN,0,1,0,0], \n",
    "                [0,0,np.NaN,1,0,0], \n",
    "                [0,0,0,np.NaN,0,1], \n",
    "                [0,0,0,0,np.NaN,0], \n",
    "                [0,0,0,0,0,np.NaN]\n",
    "              ])"
   ]
  },
  {
   "cell_type": "markdown",
   "metadata": {},
   "source": [
    "### Klasa 2- tankowanie\n",
    "Przebieg: tankowanie benzyna/gazem -> kasa"
   ]
  },
  {
   "cell_type": "code",
   "execution_count": 7,
   "metadata": {},
   "outputs": [],
   "source": [
    "m2 = np.asarray([\n",
    "                [np.NaN,0.5,0.5,0,0,0], \n",
    "                [0,np.NaN,0,1,0], \n",
    "                [0,0,np.NaN,1,0], \n",
    "                [0,0,0,np.NaN,1], \n",
    "                [0,0,0,0,np.NaN], \n",
    "                [0,0,0,0,0,np.NaN] \n",
    "              ])"
   ]
  },
  {
   "cell_type": "markdown",
   "metadata": {},
   "source": [
    "### Klasa 3- badania okresowe, tankowanie\n",
    "Przebieg: badania okresowe pojazdów -> tankowanie benzyna/gazem -> kasa"
   ]
  },
  {
   "cell_type": "code",
   "execution_count": 8,
   "metadata": {},
   "outputs": [],
   "source": [
    "m3 = np.asarray([[np.NaN,0.5,0.5,0,0], \n",
    "                [0,np.NaN,0,1,0], \n",
    "                [0,0,np.NaN,1,0], \n",
    "                [0,0,0,np.NaN,1], \n",
    "                [0,0,0,0,np.NaN] \n",
    "              ])"
   ]
  },
  {
   "cell_type": "markdown",
   "metadata": {},
   "source": [
    "### Klasa 4- badania okresowe\n",
    "Przebieg: badania okresowe pojazdów -> kasa"
   ]
  },
  {
   "cell_type": "code",
   "execution_count": 9,
   "metadata": {},
   "outputs": [],
   "source": [
    "m4 = np.asarray([[np.NaN,0.5,0.5,0,0], \n",
    "                [0,np.NaN,0,1,0], \n",
    "                [0,0,np.NaN,1,0], \n",
    "                [0,0,0,np.NaN,1], \n",
    "                [0,0,0,0,np.NaN] \n",
    "              ])"
   ]
  },
  {
   "cell_type": "markdown",
   "metadata": {},
   "source": [
    "### Klasa 5- myjnia\n",
    "Przebieg: myjnia -> kasa"
   ]
  },
  {
   "cell_type": "code",
   "execution_count": 10,
   "metadata": {},
   "outputs": [],
   "source": [
    "m5 = np.asarray([[np.NaN,0.5,0.5,0,0], \n",
    "                [0,np.NaN,0,1,0], \n",
    "                [0,0,np.NaN,1,0], \n",
    "                [0,0,0,np.NaN,1], \n",
    "                [0,0,0,0,np.NaN] \n",
    "              ])"
   ]
  },
  {
   "cell_type": "markdown",
   "metadata": {},
   "source": [
    "### Klasa 6- myjnia, badania okresowe\n",
    "Przebieg: myjnia -> przegląd -> kasa"
   ]
  },
  {
   "cell_type": "code",
   "execution_count": 12,
   "metadata": {},
   "outputs": [],
   "source": [
    "m6 = np.asarray([[np.NaN,0.5,0.5,0,0], \n",
    "                [0,np.NaN,0,1,0], \n",
    "                [0,0,np.NaN,1,0], \n",
    "                [0,0,0,np.NaN,1], \n",
    "                [0,0,0,0,np.NaN] \n",
    "              ])"
   ]
  },
  {
   "cell_type": "code",
   "execution_count": null,
   "metadata": {},
   "outputs": [],
   "source": []
  }
 ],
 "metadata": {
  "kernelspec": {
   "display_name": "Python 3",
   "language": "python",
   "name": "python3"
  },
  "language_info": {
   "codemirror_mode": {
    "name": "ipython",
    "version": 3
   },
   "file_extension": ".py",
   "mimetype": "text/x-python",
   "name": "python",
   "nbconvert_exporter": "python",
   "pygments_lexer": "ipython3",
   "version": "3.7.4"
  }
 },
 "nbformat": 4,
 "nbformat_minor": 2
}
